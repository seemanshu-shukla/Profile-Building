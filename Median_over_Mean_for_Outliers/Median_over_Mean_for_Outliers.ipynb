{
 "cells": [
  {
   "cell_type": "markdown",
   "id": "422d6939",
   "metadata": {},
   "source": [
    "# Objective: \n"
   ]
  },
  {
   "cell_type": "markdown",
   "id": "ace96557",
   "metadata": {},
   "source": [
    "# To show that median should be used over mean as the measure of central tendency, in case there exists an outlier in the dataset. "
   ]
  },
  {
   "cell_type": "markdown",
   "id": "364d08de",
   "metadata": {},
   "source": [
    "Before proceeding ahead lets first understand some of the basics concepts that will be needed in order to acheive our objective.\n",
    "\n",
    "1.Central Tendency: Central tendency is a single value that describes the whole dataset.\n",
    "\n",
    "\n",
    "2.Mean: Mean is the average of the given numbers and is calculated by dividing the sum of given numbers by the total count of numbers.\n",
    "\n",
    "    Mean = (Sum of all the observations/Total number of observations)\n",
    "    \n",
    "\n",
    "3.Outlier: An outlier is a datapoint that seems to be odd and acts uniquely by showing extreme deviation from general trend(data distribution).\n",
    "\n",
    "\n",
    "4.Median: Median, in statistics, is the middle value of the given list of data when arranged in an order(ascending/descending).\n",
    "\n",
    "\n",
    "5.Percentile: A value below which certain percentage of datapoints lie.\n",
    "    \n",
    "    -->25 percentile is first quartile denoted as q1.\n",
    "    \n",
    "    -->50 percentile is second quartile denoted as q2.\n",
    "    \n",
    "    -->75 percentile is third quartile denoted as q3.\n",
    "    \n",
    "    -->Difference between q3 and q1 is I.Q.R(Inter quartile range).\n",
    "    \n",
    "    -->Lower fence=Q1 - 1.5*(I.Q.R)\n",
    "        For a data set Lower fence is the cutoff value below which datapoints are treated as outliers.\n",
    "        \n",
    "    -->Upper fence=Q3 + 1.5*(I.Q.R)\n",
    "        For a data set Upper fence is the cutoff value above which datapoints are treated as outliers.\n",
    "        \n",
    "6.Boxplot: It is a plot that summarizes data in 5 values:\n",
    "\n",
    "    --> Minimum value\n",
    "    \n",
    "    --> First quartile\n",
    "    \n",
    "    --> Second quartile\n",
    "    \n",
    "    --> Third quartile\n",
    "    \n",
    "    --> Maximun value\n",
    "        \n",
    "    \n",
    "\n"
   ]
  },
  {
   "cell_type": "code",
   "execution_count": 84,
   "id": "bb3e8e8a",
   "metadata": {},
   "outputs": [],
   "source": [
    "# Importing pythonic libraries needed for implementing our objective\n",
    "\n",
    "import random\n",
    "import numpy as np\n",
    "import seaborn as sns\n",
    "import matplotlib.pyplot as plt"
   ]
  },
  {
   "cell_type": "markdown",
   "id": "c6d02bdf",
   "metadata": {},
   "source": [
    "# Creating profile for original dataset"
   ]
  },
  {
   "cell_type": "code",
   "execution_count": 61,
   "id": "9e6c5e29",
   "metadata": {},
   "outputs": [
    {
     "name": "stdout",
     "output_type": "stream",
     "text": [
      "[97, 48, 64, 49, 52, 84, 81, 11, 3, 38, 9, 78, 10, 14, 83, 57, 36, 17, 82, 1, 2, 22, 38, 7, 46, 62, 32, 25, 94, 59]\n"
     ]
    }
   ],
   "source": [
    "#Taking 30 random whole numbers under 100\n",
    "\n",
    "data = []\n",
    "for i in range(30):\n",
    "    data.append(random.randrange(100))\n",
    "print(data)"
   ]
  },
  {
   "cell_type": "code",
   "execution_count": 72,
   "id": "81519044",
   "metadata": {},
   "outputs": [
    {
     "name": "stdout",
     "output_type": "stream",
     "text": [
      "Mean = 43.36666666666667\n",
      "Median = 42.0\n"
     ]
    }
   ],
   "source": [
    "#Calculating mean and median of original data\n",
    "\n",
    "print(\"Mean =\", np.mean(data))\n",
    "print(\"Median =\", np.median(data))"
   ]
  },
  {
   "cell_type": "code",
   "execution_count": 93,
   "id": "eddf3ae3",
   "metadata": {},
   "outputs": [
    {
     "name": "stdout",
     "output_type": "stream",
     "text": [
      "[97, 48, 64, 49, 52, 84, 81, 11, 3, 38, 9, 78, 10, 14, 83, 57, 36, 17, 82, 1, 2, 22, 38, 7, 46, 62, 32, 25, 94, 59]\n"
     ]
    }
   ],
   "source": [
    "#   Creating copy of original data so that any changes needed can be done in the copied data ensuring that the integrity of \n",
    "#   original data is maintained throughout the process\n",
    "\n",
    "data_copy = data.copy()\n",
    "print(data_copy)"
   ]
  },
  {
   "cell_type": "code",
   "execution_count": 79,
   "id": "612f1968",
   "metadata": {},
   "outputs": [
    {
     "name": "stdout",
     "output_type": "stream",
     "text": [
      "First quartile = 14.75\n",
      "Second quartile = 42.0\n",
      "Third quartile = 63.5\n"
     ]
    }
   ],
   "source": [
    "#Calculating the percentile of original dataset\n",
    "\n",
    "q1,q2,q3 = np.percentile(data,[25,50,75])\n",
    "print(\"First quartile =\",q1)\n",
    "print(\"Second quartile =\",q2)\n",
    "print(\"Third quartile =\",q3)"
   ]
  },
  {
   "cell_type": "code",
   "execution_count": 80,
   "id": "de680d6b",
   "metadata": {},
   "outputs": [
    {
     "name": "stdout",
     "output_type": "stream",
     "text": [
      "Inter quartile range = 48.75\n",
      "Lower fence = -58.375\n",
      "Upper fence = 136.625\n"
     ]
    }
   ],
   "source": [
    "#Calculating the lower and upper fence\n",
    "\n",
    "iqr = q3-q1\n",
    "lower_fence = q1 - 1.5*iqr\n",
    "upper_fence = q3 + 1.5*iqr\n",
    "print(\"Inter quartile range =\", iqr)\n",
    "print(\"Lower fence =\", lower_fence)\n",
    "print(\"Upper fence =\", upper_fence)"
   ]
  },
  {
   "cell_type": "code",
   "execution_count": 88,
   "id": "55233cc0",
   "metadata": {},
   "outputs": [
    {
     "data": {
      "text/plain": [
       "<matplotlib.lines.Line2D at 0x253815e38b0>"
      ]
     },
     "execution_count": 88,
     "metadata": {},
     "output_type": "execute_result"
    },
    {
     "data": {
      "image/png": "[encoded data removed]",
      "text/plain": [
       "<Figure size 640x480 with 1 Axes>"
      ]
     },
     "metadata": {},
     "output_type": "display_data"
    }
   ],
   "source": [
    "#Ploting Boxplot along with lower and upper fence\n",
    "\n",
    "sns.boxplot(data)\n",
    "plt.axhline(y=lower_fence, color='red', linestyle='--')  #drawing line parallel to x axis for lower_fence\n",
    "plt.axhline(y=upper_fence, color='yellow', linestyle='--') #drawing line parallel to x axis for upper_fence"
   ]
  },
  {
   "cell_type": "markdown",
   "id": "d878908a",
   "metadata": {},
   "source": [
    "Above Boxplot is showing the distribution of our dataset in the range of 0 (Minimum value) to 100 (Maximum value). First, Second and third quartile is also represented by the same.\n",
    "\n",
    "Yellow and Red dashed line is used for representing upper and lower fence, above and below which data points will be considered as Outliers respectively."
   ]
  },
  {
   "cell_type": "markdown",
   "id": "8b25713e",
   "metadata": {},
   "source": [
    "# Creating profile of copied data with outlier"
   ]
  },
  {
   "cell_type": "code",
   "execution_count": 94,
   "id": "47c374ba",
   "metadata": {},
   "outputs": [
    {
     "name": "stdout",
     "output_type": "stream",
     "text": [
      "Data before outlier addition: [97, 48, 64, 49, 52, 84, 81, 11, 3, 38, 9, 78, 10, 14, 83, 57, 36, 17, 82, 1, 2, 22, 38, 7, 46, 62, 32, 25, 94, 59]\n",
      "\n",
      "\n",
      "Data after outlier addition: [97, 48, 64, 49, 52, 84, 81, 11, 3, 38, 9, 78, 10, 14, 83, 57, 36, 17, 82, 1, 2, 22, 38, 7, 46, 62, 32, 25, 94, 59, -200, 400]\n"
     ]
    }
   ],
   "source": [
    "#   Adding outlier to dataset. Lets use copied data instance for this so that original data can be later used to understand\n",
    "#   the changes made after addition of outlier.\n",
    "\n",
    "data_copy.append(-200)    #Adding datapoint (outlier) below defined lower fence\n",
    "data_copy.append(400)    #Adding datapoint (outlier) above defined upper fence\n",
    "\n",
    "print(\"Data before outlier addition:\", data)\n",
    "print(\"\\n\")\n",
    "print(\"Data after outlier addition:\", data_copy)"
   ]
  },
  {
   "cell_type": "code",
   "execution_count": 96,
   "id": "66da9082",
   "metadata": {},
   "outputs": [
    {
     "data": {
      "text/plain": [
       "<matplotlib.lines.Line2D at 0x2538171f1c0>"
      ]
     },
     "execution_count": 96,
     "metadata": {},
     "output_type": "execute_result"
    },
    {
     "data": {
      "image/png": "[encoded data removed]",
      "text/plain": [
       "<Figure size 640x480 with 1 Axes>"
      ]
     },
     "metadata": {},
     "output_type": "display_data"
    }
   ],
   "source": [
    "#Visualizing outliers\n",
    "\n",
    "sns.boxplot(data_copy)\n",
    "plt.axhline(y=lower_fence, color='red', linestyle='--')\n",
    "plt.axhline(y=upper_fence, color='yellow', linestyle='--')"
   ]
  },
  {
   "cell_type": "markdown",
   "id": "0d021eb4",
   "metadata": {},
   "source": [
    "Above is the same boxplot that we used earlier with 2 outliers represented as diamond dots above and below of upper and lower fences respectively."
   ]
  },
  {
   "cell_type": "code",
   "execution_count": 97,
   "id": "a09cbcaf",
   "metadata": {},
   "outputs": [
    {
     "name": "stdout",
     "output_type": "stream",
     "text": [
      "Mean of copied data with outliers = 46.90625\n",
      "Median of copied data with outliers = 42.0\n"
     ]
    }
   ],
   "source": [
    "#Now calculating mean and median of copied data\n",
    "\n",
    "print(\"Mean of copied data with outliers =\", np.mean(data_copy))\n",
    "print(\"Median of copied data with outliers =\", np.median(data_copy))"
   ]
  },
  {
   "cell_type": "code",
   "execution_count": 98,
   "id": "4d51934f",
   "metadata": {},
   "outputs": [
    {
     "name": "stdout",
     "output_type": "stream",
     "text": [
      "Mean of original data = 43.36666666666667\n",
      "Mean of copied data with outliers = 46.90625\n",
      "----------------------------------------------------------------------------\n",
      "Median of original data = 42.0\n",
      "Median of copied data with outliers = 42.0\n"
     ]
    }
   ],
   "source": [
    "#Now, let us compare original and copied data.\n",
    "#Note that only copied data is having outlier.\n",
    "\n",
    "print(\"Mean of original data =\", np.mean(data))\n",
    "print(\"Mean of copied data with outliers =\", np.mean(data_copy))\n",
    "print(\"----------------------------------------------------------------------------\")\n",
    "print(\"Median of original data =\", np.median(data))\n",
    "print(\"Median of copied data with outliers =\", np.median(data_copy))"
   ]
  },
  {
   "cell_type": "markdown",
   "id": "ead7efd4",
   "metadata": {},
   "source": [
    "# Conclusion\n",
    "\n",
    "-- From above we can conclude that on introducing outliers to our dataset mean changed from 43.36666666666667 to 46.90625 .\n",
    "Whereas, median (42) remained unchanged by the introduction of outiers.\n",
    "\n",
    "-- If we would have taken a much higher/extreme datapoint as outlier, mean of dataset would have impacted drastically but, median would have not changed that much(or negligible).\n",
    "\n",
    "-- In such a scenario, where presence of outlier is impacting a metric(mean) drastically, such a metric should be never used for describing the central tendency of dataset.\n",
    "\n",
    "-- Therefore, we can conclude that median should be used over mean as the measure of central tendency, in case there exists an outlier in the dataset.\n"
   ]
  },
  {
   "cell_type": "code",
   "execution_count": null,
   "id": "62eb14ef",
   "metadata": {},
   "outputs": [],
   "source": []
  }
 ],
 "metadata": {
  "kernelspec": {
   "display_name": "Python 3 (ipykernel)",
   "language": "python",
   "name": "python3"
  },
  "language_info": {
   "codemirror_mode": {
    "name": "ipython",
    "version": 3
   },
   "file_extension": ".py",
   "mimetype": "text/x-python",
   "name": "python",
   "nbconvert_exporter": "python",
   "pygments_lexer": "ipython3",
   "version": "3.10.9"
  }
 },
 "nbformat": 4,
 "nbformat_minor": 5
}
